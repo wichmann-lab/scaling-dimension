{
 "cells": [
  {
   "cell_type": "markdown",
   "id": "4eb8dfc8",
   "metadata": {},
   "source": [
    "# Normality test\n",
    "\n",
    "Here in this notebook, we test the normality of the triplet accuracy. \n",
    "Thus, we simulate triplets from a ground-truth scale (as described in the paper) and predict a scale with SOE. \n",
    "We plot 100 accuracy samples from repeated CV and from independent test sets and apply a hypothesis test for normality (https://docs.scipy.org/doc/scipy-1.8.0/reference/generated/scipy.stats.normaltest.html). "
   ]
  },
  {
   "cell_type": "code",
   "execution_count": 6,
   "id": "72458730",
   "metadata": {},
   "outputs": [],
   "source": [
    "import numpy as np\n",
    "from cblearn import datasets, metrics, embedding\n",
    "import matplotlib.pyplot as plt\n",
    "from scipy.stats import normaltest, kstest\n",
    "import seaborn as sns\n",
    "from sklearn.model_selection import cross_val_score, RepeatedKFold\n",
    "from sklearn.model_selection import train_test_split\n",
    "from tripletdim.data.datasets import make_triplets\n",
    "import tqdm\n",
    "\n",
    "\n",
    "sns.set_theme('talk', 'white')"
   ]
  },
  {
   "cell_type": "code",
   "execution_count": 7,
   "id": "b393a9fd",
   "metadata": {},
   "outputs": [
    {
     "data": {
      "text/plain": [
       "{'name': 'normal-3-60',\n",
       " 'n_dimension': 3,\n",
       " 'distance': 'euclidean',\n",
       " 'subject': '',\n",
       " 'n_objects': 60,\n",
       " 'n_train_triplets': 2000,\n",
       " 'n_test_triplets': 200000,\n",
       " 'frac_train_ndlogn': 2.7137704075108036,\n",
       " 'frac_train_triplets': 0.01948178453146308,\n",
       " 'max_train_score': 0.783,\n",
       " 'max_test_score': 0.78833,\n",
       " 'noise_sd': 1,\n",
       " 'distance_sd': 1.0399730425670826,\n",
       " 'distance_mean': 2.4071612243556086,\n",
       " 'difference_sd': 0.9365820724790842,\n",
       " 'difference_mean': -0.10241361126363709,\n",
       " 'random_state': 42}"
      ]
     },
     "execution_count": 7,
     "metadata": {},
     "output_type": "execute_result"
    }
   ],
   "source": [
    "noise_sd = 1\n",
    "n_triplets = 2000\n",
    "n_splits = 10\n",
    "n_repeats = 10\n",
    "n_samples = n_splits * n_repeats\n",
    "\n",
    "meta, T, T_test = make_triplets('normal-3-60', n_triplets=n_triplets, n_test_triplets=n_triplets * n_samples, noise_sd=noise_sd, random_state=42)\n",
    "dim = meta['n_dimension']\n",
    "meta"
   ]
  },
  {
   "cell_type": "code",
   "execution_count": 8,
   "id": "449fc697",
   "metadata": {},
   "outputs": [
    {
     "name": "stderr",
     "output_type": "stream",
     "text": [
      "100%|██████████| 100/100 [09:37<00:00,  5.77s/it]\n"
     ]
    }
   ],
   "source": [
    "def accuracy_distribution():\n",
    "    Ts = (_make_random_triplets(X, size=n_triplets, result_format='list-order')\n",
    "         for _ in range(n_samples))\n",
    "    accs = np.array([metrics.query_accuracy(T, datasets.triplet_response(T, X, 'list-order')) for T in Ts])\n",
    "    return accs\n",
    "\n",
    "true_dist = np.array([embedding.SOE(dim).fit(train).score(test) for train, test in \n",
    "                      (train_test_split(T_test_sample, test_size = 1 / n_splits)\n",
    "                       for T_test_sample in tqdm.tqdm(np.split(T_test, n_samples)))])\n",
    "#true_dist = accuracy_distribution()"
   ]
  },
  {
   "cell_type": "code",
   "execution_count": 23,
   "id": "c29194a6",
   "metadata": {},
   "outputs": [
    {
     "name": "stderr",
     "output_type": "stream",
     "text": [
      "[Parallel(n_jobs=2)]: Using backend LokyBackend with 2 concurrent workers.\n",
      "[Parallel(n_jobs=2)]: Done  46 tasks      | elapsed:  3.5min\n",
      "[Parallel(n_jobs=2)]: Done 100 out of 100 | elapsed:  7.6min finished\n"
     ]
    }
   ],
   "source": [
    "cv_dist = cross_val_score(embedding.SOE(dim), T, cv=RepeatedKFold(n_splits=n_splits, n_repeats=n_repeats), verbose=True, n_jobs=2)"
   ]
  },
  {
   "cell_type": "code",
   "execution_count": 50,
   "id": "f52f0a18",
   "metadata": {},
   "outputs": [
    {
     "data": {
      "image/png": "[encoded data removed]",
      "text/plain": [
       "<Figure size 432x288 with 1 Axes>"
      ]
     },
     "metadata": {},
     "output_type": "display_data"
    }
   ],
   "source": [
    "true_mean, true_std = (true_dist.mean(), true_dist.std(ddof=1))\n",
    "cv_mean, cv_std = (cv_dist.mean(), cv_dist.std(ddof=1))\n",
    "\n",
    "plt.xlabel('Accuracy')\n",
    "plt.axvline(true_mean, color=sns.color_palette()[0])\n",
    "plt.axvline(true_mean - 2 * true_std, ls='--', color=sns.color_palette()[0])\n",
    "plt.axvline(true_mean + 2 *true_std, ls='--', color=sns.color_palette()[0])\n",
    "\n",
    "plt.axvline(cv_mean, color=sns.color_palette()[1])\n",
    "plt.axvline(cv_mean - 2 * cv_std, ls='--', color=sns.color_palette()[1])\n",
    "plt.axvline(cv_mean + 2 * cv_std, ls='--', color=sns.color_palette()[1])\n",
    "\n",
    "from scipy.stats import norm\n",
    "x = np.linspace(0.6, 0.9, 100)\n",
    "y = norm.pdf(x, true_mean, true_std)\n",
    "plt.plot(x, y)\n",
    "y = norm.pdf(x, cv_mean, cv_std)\n",
    "plt.plot(x, y)\n",
    "\n",
    "sns.histplot({'Test set': true_dist, 'Cross val.': cv_dist}, stat='density', common_norm=False, multiple='layer', element='step')\n",
    "plt.tight_layout()\n",
    "plt.savefig('../tex/plots/cv-normal.pdf')"
   ]
  },
  {
   "cell_type": "code",
   "execution_count": 25,
   "id": "276864c5",
   "metadata": {},
   "outputs": [
    {
     "data": {
      "text/plain": [
       "(NormaltestResult(statistic=0.46802836075055365, pvalue=0.7913505941676191),\n",
       " NormaltestResult(statistic=2.4638397170755524, pvalue=0.29173195560980264))"
      ]
     },
     "execution_count": 25,
     "metadata": {},
     "output_type": "execute_result"
    }
   ],
   "source": [
    "# null hypothesis: x comes from a normal distribution\n",
    "normaltest(true_dist), normaltest(cv_dist)"
   ]
  }
 ],
 "metadata": {
  "kernelspec": {
   "display_name": "Python 3",
   "language": "python",
   "name": "python3"
  },
  "language_info": {
   "codemirror_mode": {
    "name": "ipython",
    "version": 3
   },
   "file_extension": ".py",
   "mimetype": "text/x-python",
   "name": "python",
   "nbconvert_exporter": "python",
   "pygments_lexer": "ipython3",
   "version": "3.8.8"
  }
 },
 "nbformat": 4,
 "nbformat_minor": 5
}
